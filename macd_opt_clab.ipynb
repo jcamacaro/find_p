{
 "cells": [
  {
   "cell_type": "code",
   "execution_count": null,
   "outputs": [],
   "source": [
    "# Define functions to connect to Google and change directories\n",
    "def connectDrive():\n",
    "    from google.colab import drive\n",
    "    drive.mount('/content/drive', force_remount=True)\n",
    "\n",
    "def changeDirectory(path):\n",
    "    import os\n",
    "    original_path = os.getcwd()\n",
    "    os.chdir(path)\n",
    "    new_path = os.getcwd()\n",
    "    print(\"Original path: \",original_path)\n",
    "    print(\"New path: \",new_path)\n",
    "\n",
    "# Connect to Google Drive\n",
    "connectDrive()\n",
    "\n",
    "# Change path\n",
    "changeDirectory(\"/content/drive/My Drive/github/find_p/\")"
   ],
   "metadata": {
    "collapsed": false
   }
  },
  {
   "cell_type": "code",
   "execution_count": null,
   "outputs": [],
   "source": [
    "# !pip install vectorbt\n",
    "# !pip install pandas_ta\n",
    "# !pip install yfinance\n",
    "# !pip install plotly\n",
    "# !pip install numba\n",
    "# !apt-get install xvfb libgtk2.0-0 libgconf-2-4\n",
    "# !wget https://github.com/plotly/orca/releases/download/v1.2.1/orca-1.2.1-x86_64.AppImage -O /usr/local/bin/orca\n",
    "# !chmod +x /usr/local/bin/orca"
   ],
   "metadata": {
    "collapsed": false
   }
  },
  {
   "cell_type": "code",
   "execution_count": 1,
   "outputs": [],
   "source": [
    "import numpy as np\n",
    "import vectorbt as vbt\n",
    "import pandas as pd\n",
    "from hyperopt import fmin, tpe, hp\n",
    "from hyperopt.pyll import scope\n",
    "from datetime import datetime\n",
    "from pdta_vt_utils import dl, dtmask"
   ],
   "metadata": {
    "collapsed": false
   }
  },
  {
   "cell_type": "markdown",
   "source": [
    "# Portfolio Setting"
   ],
   "metadata": {
    "collapsed": false
   }
  },
  {
   "cell_type": "code",
   "execution_count": 2,
   "outputs": [
    {
     "name": "stdout",
     "output_type": "stream",
     "text": [
      "Portfolio Settings [Initial]\n"
     ]
    },
    {
     "data": {
      "text/plain": "                                                                 Value\nOption                                                                \ncall_seq                                                       default\ninit_cash                                                         1000\nsize                                                               inf\nsize_type                                                       amount\nfees                                                            0.0025\nfixed_fees                                                         0.0\nslippage                                                        0.0025\nreject_prob                                                        0.0\nmin_size                                                           0.0\nmax_size                                                           inf\nsize_granularity                                                   NaN\nlock_cash                                                        False\nallow_partial                                                    False\nraise_reject                                                     False\nval_price                                                          inf\naccumulate                                                       False\nsl_stop                                                            NaN\nsl_trail                                                         False\ntp_stop                                                            NaN\nstop_entry_price                                                 close\nstop_exit_price                                              stoplimit\nstop_conflict_mode                                                exit\nupon_stop_exit                                                   close\nupon_stop_update                                              override\nuse_stops                                                         None\nlog                                                              False\nupon_long_conflict                                              ignore\nupon_short_conflict                                             ignore\nupon_dir_conflict                                               ignore\nupon_opposite_entry                                      reversereduce\nsignal_direction                                              longonly\norder_direction                                                   both\ncash_sharing                                                     False\ncall_pre_segment                                                 False\ncall_post_segment                                                False\nffill_val_price                                                   True\nupdate_value                                                     False\nfill_pos_record                                                   True\nrow_wise                                                         False\nflexible                                                         False\nuse_numba                                                         True\nseed                                                              None\nfreq                                                                1D\nattach_call_seq                                                  False\nfillna_close                                                      True\ntrades_type                                                 exittrades\nstats                {'filters': {'has_year_freq': {'filter_func': ...\nplots                {'subplots': ['orders', 'trade_pnl', 'cum_retu...",
      "text/html": "<div>\n<style scoped>\n    .dataframe tbody tr th:only-of-type {\n        vertical-align: middle;\n    }\n\n    .dataframe tbody tr th {\n        vertical-align: top;\n    }\n\n    .dataframe thead th {\n        text-align: right;\n    }\n</style>\n<table border=\"1\" class=\"dataframe\">\n  <thead>\n    <tr style=\"text-align: right;\">\n      <th></th>\n      <th>Value</th>\n    </tr>\n    <tr>\n      <th>Option</th>\n      <th></th>\n    </tr>\n  </thead>\n  <tbody>\n    <tr>\n      <th>call_seq</th>\n      <td>default</td>\n    </tr>\n    <tr>\n      <th>init_cash</th>\n      <td>1000</td>\n    </tr>\n    <tr>\n      <th>size</th>\n      <td>inf</td>\n    </tr>\n    <tr>\n      <th>size_type</th>\n      <td>amount</td>\n    </tr>\n    <tr>\n      <th>fees</th>\n      <td>0.0025</td>\n    </tr>\n    <tr>\n      <th>fixed_fees</th>\n      <td>0.0</td>\n    </tr>\n    <tr>\n      <th>slippage</th>\n      <td>0.0025</td>\n    </tr>\n    <tr>\n      <th>reject_prob</th>\n      <td>0.0</td>\n    </tr>\n    <tr>\n      <th>min_size</th>\n      <td>0.0</td>\n    </tr>\n    <tr>\n      <th>max_size</th>\n      <td>inf</td>\n    </tr>\n    <tr>\n      <th>size_granularity</th>\n      <td>NaN</td>\n    </tr>\n    <tr>\n      <th>lock_cash</th>\n      <td>False</td>\n    </tr>\n    <tr>\n      <th>allow_partial</th>\n      <td>False</td>\n    </tr>\n    <tr>\n      <th>raise_reject</th>\n      <td>False</td>\n    </tr>\n    <tr>\n      <th>val_price</th>\n      <td>inf</td>\n    </tr>\n    <tr>\n      <th>accumulate</th>\n      <td>False</td>\n    </tr>\n    <tr>\n      <th>sl_stop</th>\n      <td>NaN</td>\n    </tr>\n    <tr>\n      <th>sl_trail</th>\n      <td>False</td>\n    </tr>\n    <tr>\n      <th>tp_stop</th>\n      <td>NaN</td>\n    </tr>\n    <tr>\n      <th>stop_entry_price</th>\n      <td>close</td>\n    </tr>\n    <tr>\n      <th>stop_exit_price</th>\n      <td>stoplimit</td>\n    </tr>\n    <tr>\n      <th>stop_conflict_mode</th>\n      <td>exit</td>\n    </tr>\n    <tr>\n      <th>upon_stop_exit</th>\n      <td>close</td>\n    </tr>\n    <tr>\n      <th>upon_stop_update</th>\n      <td>override</td>\n    </tr>\n    <tr>\n      <th>use_stops</th>\n      <td>None</td>\n    </tr>\n    <tr>\n      <th>log</th>\n      <td>False</td>\n    </tr>\n    <tr>\n      <th>upon_long_conflict</th>\n      <td>ignore</td>\n    </tr>\n    <tr>\n      <th>upon_short_conflict</th>\n      <td>ignore</td>\n    </tr>\n    <tr>\n      <th>upon_dir_conflict</th>\n      <td>ignore</td>\n    </tr>\n    <tr>\n      <th>upon_opposite_entry</th>\n      <td>reversereduce</td>\n    </tr>\n    <tr>\n      <th>signal_direction</th>\n      <td>longonly</td>\n    </tr>\n    <tr>\n      <th>order_direction</th>\n      <td>both</td>\n    </tr>\n    <tr>\n      <th>cash_sharing</th>\n      <td>False</td>\n    </tr>\n    <tr>\n      <th>call_pre_segment</th>\n      <td>False</td>\n    </tr>\n    <tr>\n      <th>call_post_segment</th>\n      <td>False</td>\n    </tr>\n    <tr>\n      <th>ffill_val_price</th>\n      <td>True</td>\n    </tr>\n    <tr>\n      <th>update_value</th>\n      <td>False</td>\n    </tr>\n    <tr>\n      <th>fill_pos_record</th>\n      <td>True</td>\n    </tr>\n    <tr>\n      <th>row_wise</th>\n      <td>False</td>\n    </tr>\n    <tr>\n      <th>flexible</th>\n      <td>False</td>\n    </tr>\n    <tr>\n      <th>use_numba</th>\n      <td>True</td>\n    </tr>\n    <tr>\n      <th>seed</th>\n      <td>None</td>\n    </tr>\n    <tr>\n      <th>freq</th>\n      <td>1D</td>\n    </tr>\n    <tr>\n      <th>attach_call_seq</th>\n      <td>False</td>\n    </tr>\n    <tr>\n      <th>fillna_close</th>\n      <td>True</td>\n    </tr>\n    <tr>\n      <th>trades_type</th>\n      <td>exittrades</td>\n    </tr>\n    <tr>\n      <th>stats</th>\n      <td>{'filters': {'has_year_freq': {'filter_func': ...</td>\n    </tr>\n    <tr>\n      <th>plots</th>\n      <td>{'subplots': ['orders', 'trade_pnl', 'cum_retu...</td>\n    </tr>\n  </tbody>\n</table>\n</div>"
     },
     "execution_count": 2,
     "metadata": {},
     "output_type": "execute_result"
    }
   ],
   "source": [
    "cheight, cwidth = 500, 1000 # Adjust as needed for Chart Height and Width\n",
    "vbt.settings.set_theme(\"dark\") # Options: \"light\" (Default), \"dark\" (my fav), \"seaborn\"\n",
    "\n",
    "# Must be set\n",
    "vbt.settings.portfolio[\"freq\"] = \"1D\" # Daily\n",
    "\n",
    "# Predefine vectorbt Portfolio settings\n",
    "vbt.settings.portfolio[\"init_cash\"] = 1000\n",
    "vbt.settings.portfolio[\"fees\"] = 0.0025 # 0.25%\n",
    "vbt.settings.portfolio[\"slippage\"] = 0.0025 # 0.25%\n",
    "# vbt.settings.portfolio[\"size\"] = 100\n",
    "# vbt.settings.portfolio[\"accumulate\"] = False\n",
    "vbt.settings.portfolio[\"allow_partial\"] = False\n",
    "\n",
    "pf_settings = pd.DataFrame(vbt.settings.portfolio.items(), columns=[\"Option\", \"Value\"])\n",
    "pf_settings.set_index(\"Option\", inplace=True)\n",
    "\n",
    "print(f\"Portfolio Settings [Initial]\")\n",
    "pf_settings"
   ],
   "metadata": {
    "collapsed": false
   }
  },
  {
   "cell_type": "markdown",
   "source": [
    "# Data Collection"
   ],
   "metadata": {
    "collapsed": false
   }
  },
  {
   "cell_type": "code",
   "execution_count": 3,
   "outputs": [
    {
     "name": "stdout",
     "output_type": "stream",
     "text": [
      "====================================================================================================\n",
      "Tickers by index #\n",
      "    Assets: 0: AAPL, 1: TSLA, 2: TWTR, 3: SPXL, 4: ^GSPC, 5: SPY\n",
      "====================================================================================================\n",
      "Selected Benchmark | Asset: SPXL\n",
      "====================================================================================================\n",
      "[i] Downloading: AAPL, TSLA, TWTR, SPXL, ^GSPC, SPY\n",
      "[+] AAPL(10632, 7) Monday February 13, 2023, NYSE: 14:55:16\n",
      "[+] TSLA(3179, 7) Monday February 13, 2023, NYSE: 14:55:16\n",
      "[+] TWTR(2259, 7) Monday February 13, 2023, NYSE: 14:55:17\n",
      "[+] SPXL(3592, 8) Monday February 13, 2023, NYSE: 14:55:17\n",
      "[+] ^GSPC(23894, 7) Monday February 13, 2023, NYSE: 14:55:18\n",
      "[+] SPY(7565, 8) Monday February 13, 2023, NYSE: 14:55:18\n",
      "[*] Download Complete\n",
      "\n",
      "====================================================================================================\n",
      "Available Data:\n",
      "====================================================================================================\n",
      "Assets: AAPL, TSLA, TWTR, SPXL, ^GSPC, SPY\n",
      "====================================================================================================\n",
      "====================================================================================================\n",
      "Analysis of:  SPXL from 2010-01-01 00:00:00-05:00 to 2015-01-01 00:00:00-05:00\n",
      "====================================================================================================\n"
     ]
    }
   ],
   "source": [
    "asset_tickers = [\"AAPL\", \"TSLA\", \"TWTR\", \"SPXL\", \"^GSPC\", \"SPY\"]\n",
    "\n",
    "print(\"=\"*100)\n",
    "print(\"Tickers by index #\")\n",
    "print(f\"    Assets: {', '.join([f'{k}: {v}' for k,v in enumerate(asset_tickers)])}\")\n",
    "\n",
    "asset_name = asset_tickers[3] # Change index for different symbol\n",
    "print(\"=\"*100)\n",
    "print(f\"Selected Benchmark | Asset: {asset_name}\")\n",
    "print(\"=\"*100)\n",
    "\n",
    "assets = dl(asset_tickers, lc_cols=True)\n",
    "\n",
    "start_date = datetime(2010, 1, 1) # Adjust as needed\n",
    "start_date = pd.to_datetime(start_date).tz_localize('America/New_York')\n",
    "end_date = datetime(2015, 1, 1)   # Adjust as needed\n",
    "end_date = pd.to_datetime(end_date).tz_localize('America/New_York')\n",
    "\n",
    "print(\"=\"*100)\n",
    "print(\"Available Data:\")\n",
    "print(\"=\"*100)\n",
    "print(f\"Assets: {', '.join(assets.keys())}\")\n",
    "print(\"=\"*100)\n",
    "\n",
    "assetdf = assets[asset_name]\n",
    "\n",
    "# Set True if you want to constrain Data between start_date & end_date\n",
    "common_range = True\n",
    "crs = ''\n",
    "if common_range:\n",
    "    crs = f\" from {start_date} to {end_date}\"\n",
    "    assetdf = dtmask(assetdf, start_date, end_date)\n",
    "\n",
    "# Update DataFrame names\n",
    "assetdf.name = asset_name\n",
    "print(\"=\"*100)\n",
    "print(f\"Analysis of:  {assetdf.name}{crs}\")\n",
    "print(\"=\"*100)"
   ],
   "metadata": {
    "collapsed": false
   }
  },
  {
   "cell_type": "code",
   "execution_count": 4,
   "outputs": [
    {
     "data": {
      "text/plain": "                                Open       High        Low      Close  \\\nDate                                                                    \n2010-01-04 00:00:00-05:00   4.100749   4.207282   4.099988   4.200433   \n2010-01-05 00:00:00-05:00   4.195866   4.242284   4.147166   4.240001   \n2010-01-06 00:00:00-05:00   4.227827   4.278810   4.217935   4.251416   \n2010-01-07 00:00:00-05:00   4.229349   4.315335   4.188257   4.301638   \n2010-01-08 00:00:00-05:00   4.264352   4.352622   4.240001   4.347295   \n...                              ...        ...        ...        ...   \n2014-12-24 00:00:00-05:00  21.372377  21.452072  21.266899  21.290339   \n2014-12-26 00:00:00-05:00  21.445042  21.606777  21.421602  21.480202   \n2014-12-29 00:00:00-05:00  21.400508  21.634906  21.391132  21.559898   \n2014-12-30 00:00:00-05:00  21.391129  21.454415  21.184858  21.212986   \n2014-12-31 00:00:00-05:00  21.330187  21.393474  20.542611  20.561363   \n\n                             Volume  Dividends  Stock Splits  Capital Gains  \nDate                                                                         \n2010-01-04 00:00:00-05:00  28238400        0.0           0.0            0.0  \n2010-01-05 00:00:00-05:00  33206400        0.0           0.0            0.0  \n2010-01-06 00:00:00-05:00  44194800        0.0           0.0            0.0  \n2010-01-07 00:00:00-05:00  43773600        0.0           0.0            0.0  \n2010-01-08 00:00:00-05:00  39685200        0.0           0.0            0.0  \n...                             ...        ...           ...            ...  \n2014-12-24 00:00:00-05:00   1291600        0.0           0.0            0.0  \n2014-12-26 00:00:00-05:00   2223200        0.0           0.0            0.0  \n2014-12-29 00:00:00-05:00   2677600        0.0           0.0            0.0  \n2014-12-30 00:00:00-05:00   3138400        0.0           0.0            0.0  \n2014-12-31 00:00:00-05:00   4766000        0.0           0.0            0.0  \n\n[1258 rows x 8 columns]",
      "text/html": "<div>\n<style scoped>\n    .dataframe tbody tr th:only-of-type {\n        vertical-align: middle;\n    }\n\n    .dataframe tbody tr th {\n        vertical-align: top;\n    }\n\n    .dataframe thead th {\n        text-align: right;\n    }\n</style>\n<table border=\"1\" class=\"dataframe\">\n  <thead>\n    <tr style=\"text-align: right;\">\n      <th></th>\n      <th>Open</th>\n      <th>High</th>\n      <th>Low</th>\n      <th>Close</th>\n      <th>Volume</th>\n      <th>Dividends</th>\n      <th>Stock Splits</th>\n      <th>Capital Gains</th>\n    </tr>\n    <tr>\n      <th>Date</th>\n      <th></th>\n      <th></th>\n      <th></th>\n      <th></th>\n      <th></th>\n      <th></th>\n      <th></th>\n      <th></th>\n    </tr>\n  </thead>\n  <tbody>\n    <tr>\n      <th>2010-01-04 00:00:00-05:00</th>\n      <td>4.100749</td>\n      <td>4.207282</td>\n      <td>4.099988</td>\n      <td>4.200433</td>\n      <td>28238400</td>\n      <td>0.0</td>\n      <td>0.0</td>\n      <td>0.0</td>\n    </tr>\n    <tr>\n      <th>2010-01-05 00:00:00-05:00</th>\n      <td>4.195866</td>\n      <td>4.242284</td>\n      <td>4.147166</td>\n      <td>4.240001</td>\n      <td>33206400</td>\n      <td>0.0</td>\n      <td>0.0</td>\n      <td>0.0</td>\n    </tr>\n    <tr>\n      <th>2010-01-06 00:00:00-05:00</th>\n      <td>4.227827</td>\n      <td>4.278810</td>\n      <td>4.217935</td>\n      <td>4.251416</td>\n      <td>44194800</td>\n      <td>0.0</td>\n      <td>0.0</td>\n      <td>0.0</td>\n    </tr>\n    <tr>\n      <th>2010-01-07 00:00:00-05:00</th>\n      <td>4.229349</td>\n      <td>4.315335</td>\n      <td>4.188257</td>\n      <td>4.301638</td>\n      <td>43773600</td>\n      <td>0.0</td>\n      <td>0.0</td>\n      <td>0.0</td>\n    </tr>\n    <tr>\n      <th>2010-01-08 00:00:00-05:00</th>\n      <td>4.264352</td>\n      <td>4.352622</td>\n      <td>4.240001</td>\n      <td>4.347295</td>\n      <td>39685200</td>\n      <td>0.0</td>\n      <td>0.0</td>\n      <td>0.0</td>\n    </tr>\n    <tr>\n      <th>...</th>\n      <td>...</td>\n      <td>...</td>\n      <td>...</td>\n      <td>...</td>\n      <td>...</td>\n      <td>...</td>\n      <td>...</td>\n      <td>...</td>\n    </tr>\n    <tr>\n      <th>2014-12-24 00:00:00-05:00</th>\n      <td>21.372377</td>\n      <td>21.452072</td>\n      <td>21.266899</td>\n      <td>21.290339</td>\n      <td>1291600</td>\n      <td>0.0</td>\n      <td>0.0</td>\n      <td>0.0</td>\n    </tr>\n    <tr>\n      <th>2014-12-26 00:00:00-05:00</th>\n      <td>21.445042</td>\n      <td>21.606777</td>\n      <td>21.421602</td>\n      <td>21.480202</td>\n      <td>2223200</td>\n      <td>0.0</td>\n      <td>0.0</td>\n      <td>0.0</td>\n    </tr>\n    <tr>\n      <th>2014-12-29 00:00:00-05:00</th>\n      <td>21.400508</td>\n      <td>21.634906</td>\n      <td>21.391132</td>\n      <td>21.559898</td>\n      <td>2677600</td>\n      <td>0.0</td>\n      <td>0.0</td>\n      <td>0.0</td>\n    </tr>\n    <tr>\n      <th>2014-12-30 00:00:00-05:00</th>\n      <td>21.391129</td>\n      <td>21.454415</td>\n      <td>21.184858</td>\n      <td>21.212986</td>\n      <td>3138400</td>\n      <td>0.0</td>\n      <td>0.0</td>\n      <td>0.0</td>\n    </tr>\n    <tr>\n      <th>2014-12-31 00:00:00-05:00</th>\n      <td>21.330187</td>\n      <td>21.393474</td>\n      <td>20.542611</td>\n      <td>20.561363</td>\n      <td>4766000</td>\n      <td>0.0</td>\n      <td>0.0</td>\n      <td>0.0</td>\n    </tr>\n  </tbody>\n</table>\n<p>1258 rows × 8 columns</p>\n</div>"
     },
     "execution_count": 4,
     "metadata": {},
     "output_type": "execute_result"
    }
   ],
   "source": [
    "assetdf"
   ],
   "metadata": {
    "collapsed": false
   }
  },
  {
   "cell_type": "markdown",
   "source": [
    "# Indicator Setting Use this section for custome indicators"
   ],
   "metadata": {
    "collapsed": false
   }
  },
  {
   "cell_type": "code",
   "execution_count": 5,
   "outputs": [],
   "source": [
    "# def wavetrend(high, low, close, n1, n2):\n",
    "#     ap = (high + low + close) / 3.0  # HLC3\n",
    "#     ap = pd.DataFrame(ap)\n",
    "#     esa = ap.ewm(span=n1, adjust=False).mean()  # EMA\n",
    "#     d = (abs(ap - esa)).ewm(span=n1, adjust=False).mean()\n",
    "#     ci = (ap - esa) / (0.015 * d)\n",
    "#     wt1 = ci.ewm(span=n2, adjust=False).mean()\n",
    "#     wt2 = wt1.rolling(4).mean()\n",
    "#     return wt1, wt2\n",
    "#\n",
    "#\n",
    "# Wavetrend = vbt.IndicatorFactory(\n",
    "#     class_name='Wavetrend',\n",
    "#     input_names=['high', 'low', 'close'],\n",
    "#     param_names=['n1', 'n2'],\n",
    "#     output_names=['wt1', 'wt2'], ).from_apply_func(wavetrend)\n",
    "#\n"
   ],
   "metadata": {
    "collapsed": false
   }
  },
  {
   "cell_type": "markdown",
   "source": [
    "# Optimization"
   ],
   "metadata": {
    "collapsed": false
   }
  },
  {
   "cell_type": "code",
   "execution_count": 5,
   "outputs": [
    {
     "name": "stdout",
     "output_type": "stream",
     "text": [
      "total profit 121.4736794553329 with parameters: 49, 9, 5, 0.04827608438893604\n",
      "total profit 167.02843905019324 with parameters: 16, 38, 18, 0.07976345394651232 \n",
      "total profit -71.63936929666659 with parameters: 10, 22, 5, 0.09755493554620898  \n",
      "total profit -19.50592893526664 with parameters: 4, 17, 16, 0.023410984835713883  \n",
      "total profit -772.4528681808779 with parameters: 4, 25, 2, 0.08023989072281668    \n",
      "total profit -409.6660395425066 with parameters: 9, 3, 5, 0.037902961819404425    \n",
      "total profit -311.0673150698682 with parameters: 16, 3, 19, 0.04805624149690825   \n",
      "total profit 597.3491930701394 with parameters: 39, 35, 2, 0.05392869916475385    \n",
      "total profit -298.46453717739075 with parameters: 7, 23, 18, 0.03646783760333909  \n",
      "total profit 77.81315050503156 with parameters: 30, 18, 3, 0.0566346654260877    \n",
      "total profit -578.4671010610598 with parameters: 24, 23, 11, 0.06527197666652151  \n",
      "total profit 15.755246165171457 with parameters: 50, 43, 10, 0.0524389204080687   \n",
      "total profit -154.8605212926975 with parameters: 16, 25, 18, 0.049393649002362684 \n",
      "total profit 120.4644136540154 with parameters: 39, 15, 4, 0.04053179269966626    \n",
      "total profit -323.8859537208933 with parameters: 8, 25, 9, 0.014953801425466325   \n",
      "total profit 1238.2698780120645 with parameters: 42, 27, 2, 0.07379795766552526   \n",
      "total profit 0.0 with parameters: 4, 4, 8, 0.03750701557981559                     \n",
      "total profit -668.0955442203237 with parameters: 13, 18, 12, 0.02272618857190213   \n",
      "total profit 19.4234385383902 with parameters: 18, 6, 8, 0.07706279954592701       \n",
      "total profit 0.0 with parameters: 18, 18, 4, 0.08192143419063037                   \n",
      "total profit 208.3849343133262 with parameters: 43, 33, 2, 0.06663942146765794     \n",
      "total profit -453.03497567427496 with parameters: 36, 32, 2, 0.0977207570410622    \n",
      "total profit -364.32166048616466 with parameters: 45, 48, 7, 0.08867702055923644   \n",
      "total profit -669.1487184116809 with parameters: 32, 35, 15, 0.06458342571357814   \n",
      "total profit 0.0 with parameters: 42, 42, 3, 0.0719455852289331                    \n",
      "total profit -90.219134214664 with parameters: 25, 30, 7, 0.0585318382280646       \n",
      "total profit -93.21613074293975 with parameters: 46, 49, 13, 0.08669380384975671   \n",
      "total profit -77.3286832803359 with parameters: 30, 29, 3, 0.07144294727975936     \n",
      "total profit -319.1007988685325 with parameters: 37, 12, 2, 0.04468096618815065    \n",
      "total profit 66.87339822050558 with parameters: 47, 38, 6, 0.02922883002110058     \n",
      "total profit 395.3452776587284 with parameters: 42, 36, 4, 0.06206877828042864     \n",
      "total profit 104.87501459515204 with parameters: 50, 43, 14, 0.09099956247270939   \n",
      "total profit 80.82647526902042 with parameters: 21, 28, 17, 0.07249722899810021    \n",
      "total profit -485.27754003602195 with parameters: 34, 46, 6, 0.09459111122672625   \n",
      "total profit 0.0 with parameters: 39, 39, 10, 0.031567987877423584                 \n",
      "total profit 301.9830854467938 with parameters: 45, 11, 8, 0.08425006393876122     \n",
      "total profit -331.28013499087854 with parameters: 28, 35, 2, 0.07726918071133937   \n",
      "total profit 1267.0525725514847 with parameters: 40, 28, 5, 0.05914697632538582    \n",
      "total profit 837.4152341738426 with parameters: 48, 28, 20, 0.05992664041545012    \n",
      "total profit -289.3283963573116 with parameters: 32, 21, 6, 0.01017043153902484    \n",
      "total profit -107.43762488204356 with parameters: 35, 13, 7, 0.043886965397348265  \n",
      "total profit -290.03621367521976 with parameters: 28, 20, 5, 0.05286181875693506   \n",
      "total profit 981.4107726112168 with parameters: 37, 26, 3, 0.0691675956810502      \n",
      "total profit -234.79877929316945 with parameters: 21, 15, 11, 0.07714847433810008  \n",
      "total profit 631.0821939960813 with parameters: 43, 32, 8, 0.09343164494517733     \n",
      "total profit 1179.8318713334688 with parameters: 40, 24, 9, 0.04912537435457537    \n",
      "total profit -207.17745947894412 with parameters: 50, 9, 4, 0.05533097135422754    \n",
      "total profit -464.41917045198136 with parameters: 23, 16, 6, 0.03149906677935658   \n",
      "total profit -320.4854290403257 with parameters: 27, 21, 5, 0.08211730406129474    \n",
      "total profit 1497.4871982673417 with parameters: 47, 26, 16, 0.020530943585109734  \n",
      "total profit 222.8352720950288 with parameters: 13, 45, 17, 0.020302108273813936   \n",
      "total profit 214.38227383034098 with parameters: 47, 40, 20, 0.02574055701457227   \n",
      "total profit 9.402798483077163 with parameters: 40, 37, 16, 0.014634582895802467   \n",
      "total profit -269.43510402768754 with parameters: 30, 34, 13, 0.043363758636858915 \n",
      "total profit -213.43758130525453 with parameters: 44, 2, 18, 0.034394823728302715  \n",
      "total profit 2299.71394134473 with parameters: 38, 23, 15, 0.04023910579144856     \n",
      "total profit -309.74416483933726 with parameters: 33, 5, 15, 0.01780312712188922   \n",
      "total profit 1372.523158690134 with parameters: 37, 30, 12, 0.025572882637791946 \n",
      "total profit -705.6145033983306 with parameters: 6, 10, 19, 0.010992861267936116 \n",
      "total profit -152.21884481968084 with parameters: 2, 24, 17, 0.014364802318469906\n",
      "total profit 477.09340090844614 with parameters: 48, 22, 15, 0.04029576539140478 \n",
      "total profit -25.605983089995107 with parameters: 31, 18, 13, 0.021886882416100782\n",
      "total profit 324.86395958245953 with parameters: 46, 17, 14, 0.04001696458335463 \n",
      "total profit 0.0 with parameters: 25, 25, 20, 0.035276248779125274               \n",
      "total profit 379.55150391274196 with parameters: 38, 9, 16, 0.027994026095896997 \n",
      "total profit 471.70970850726314 with parameters: 36, 19, 12, 0.02555332786396669 \n",
      "total profit 1354.4363303063474 with parameters: 34, 30, 14, 0.019401607871184234\n",
      "total profit 998.777200117362 with parameters: 41, 30, 11, 0.04597896710583199   \n",
      "total profit 1444.446958545755 with parameters: 38, 31, 12, 0.03294896478490455  \n",
      "total profit 273.0171308601299 with parameters: 38, 37, 15, 0.03816581147680532  \n",
      "total profit 865.6899309223268 with parameters: 50, 32, 12, 0.03199827591182802  \n",
      "total profit 512.511745564348 with parameters: 43, 23, 15, 0.047462082312717195  \n",
      "total profit 430.7573043973101 with parameters: 45, 34, 13, 0.05178816063167328  \n",
      "total profit 2646.6409459136453 with parameters: 29, 25, 17, 0.017068536312317768\n",
      "total profit -203.4651536217591 with parameters: 19, 27, 18, 0.028915791159919067  \n",
      "total profit -166.3447999550558 with parameters: 12, 14, 17, 0.011776867337513465  \n",
      "total profit 154.615797206063 with parameters: 29, 20, 17, 0.016951779177929727    \n",
      "total profit -383.60526252950365 with parameters: 23, 21, 19, 0.01222001185416884  \n",
      "total profit 386.1272866469683 with parameters: 26, 25, 19, 0.023125960525972444   \n",
      "total profit -292.0752606910456 with parameters: 15, 17, 16, 0.04261706705463124   \n",
      "total profit 519.658305204109 with parameters: 29, 28, 18, 0.03745878226859434     \n",
      "total profit -2.1876151301422624 with parameters: 32, 11, 14, 0.05101129186828707  \n",
      "total profit 923.6890442094058 with parameters: 42, 26, 15, 0.027299969268637814   \n",
      "total profit -378.0298667201188 with parameters: 20, 16, 18, 0.017184291013841425  \n",
      "total profit 1207.4126615614573 with parameters: 35, 19, 16, 0.020250780443625556  \n",
      "total profit 1382.2884285140901 with parameters: 31, 27, 20, 0.06277213457757745   \n",
      "total profit 928.8337816757831 with parameters: 48, 29, 16, 0.03080439101397231    \n",
      "total profit 124.15301362243531 with parameters: 46, 39, 17, 0.0559141126124334    \n",
      "total profit -335.79511768287284 with parameters: 22, 7, 14, 0.01371871374886488   \n",
      "total profit -336.105214313892 with parameters: 24, 33, 18, 0.024494377169467903   \n",
      "total profit 2040.7986662139842 with parameters: 36, 24, 9, 0.03483533643524411    \n",
      "total profit -41.213668132861926 with parameters: 28, 22, 9, 0.0415664562510744    \n",
      "total profit 2841.852574234788 with parameters: 36, 24, 11, 0.046991932728292      \n",
      "total profit 68.07445750761337 with parameters: 32, 14, 11, 0.04620641480514381    \n",
      "total profit -0.71251933874521 with parameters: 33, 13, 11, 0.05378378752234585   \n",
      "total profit -775.1477609522259 with parameters: 34, 35, 10, 0.06793471518957175  \n",
      "total profit 525.5815391827846 with parameters: 29, 23, 8, 0.057959576594864684   \n",
      "total profit 21.928548710485757 with parameters: 39, 10, 12, 0.06503886137972774  \n",
      "total profit -481.209675813438 with parameters: 26, 42, 9, 0.061413973303109694   \n",
      "total profit 561.9864329794906 with parameters: 41, 37, 13, 0.05005632884782668   \n",
      "100%|██████████| 100/100 [00:17<00:00,  5.72trial/s, best loss: -2841.852574234788]\n",
      "{'fast': 36.932119480388465, 'signal': 11.41291717404105, 'sl_stop': 0.046991932728292, 'slow': 24.805667510573535}\n"
     ]
    }
   ],
   "source": [
    "below = 30,\n",
    "above = 70\n",
    "\n",
    "\n",
    "def optimize(params):\n",
    "    fast, slow, signal, sl_stop = params\n",
    "    macd_ind = vbt.MACD.run(assetdf['Close'],\n",
    "                            fast_window=fast,\n",
    "                            slow_window=slow,\n",
    "                            signal_window=signal)\n",
    "\n",
    "    entries = macd_ind.macd_above(0) & macd_ind.macd_above(macd_ind.signal)\n",
    "    exits = macd_ind.macd_below(0) | macd_ind.macd_below(macd_ind.signal)\n",
    "\n",
    "    pf = vbt.Portfolio.from_signals(close=assetdf['Close'], entries=entries, exits=exits, sl_stop=sl_stop, direction=\"longonly\")\n",
    "\n",
    "    print(f\"total profit {pf.total_profit()} with parameters: {fast}, {slow}, {signal}, {sl_stop}\")\n",
    "    return np.array([pf.total_profit()])\n",
    "\n",
    "\n",
    "def optimize_all(params):\n",
    "    res = optimize(params)\n",
    "    return sum(res) * -1\n",
    "\n",
    "\n",
    "\n",
    "\n",
    "best = fmin(optimize_all,\n",
    "            space=[scope.int(hp.uniform('fast', 2, 51)),\n",
    "                   scope.int(hp.uniform('slow', 2, 51)),\n",
    "                   scope.int(hp.uniform('signal', 2, 21)),\n",
    "                   hp.uniform('sl_stop', 0.01, 0.1)],\n",
    "            algo=tpe.suggest,\n",
    "            max_evals=100)\n",
    "\n",
    "print(best)"
   ],
   "metadata": {
    "collapsed": false
   }
  },
  {
   "cell_type": "code",
   "execution_count": null,
   "outputs": [],
   "source": [
    "fast = 36 #math.ceil(best['k_window'])\n",
    "signal = 11 #math.ceil(best['d_window'])\n",
    "slow = 25 #math.ceil(best['d_ewm'])\n",
    "sl_stop = best['sl_stop']"
   ],
   "metadata": {
    "collapsed": false
   }
  },
  {
   "cell_type": "code",
   "execution_count": null,
   "outputs": [],
   "source": [
    "macd_ind = vbt.MACD.run(assetdf['Close'],\n",
    "                            fast_window=fast,\n",
    "                            slow_window=slow,\n",
    "                            signal_window=signal)\n",
    "\n",
    "entries = macd_ind.macd_above(0) & macd_ind.macd_above(macd_ind.signal)\n",
    "exits = macd_ind.macd_below(0) | macd_ind.macd_below(macd_ind.signal)\n",
    "\n",
    "pf = vbt.Portfolio.from_signals(close=assetdf['Close'],\n",
    "                                entries=entries,\n",
    "                                exits=exits,\n",
    "                                sl_stop=sl_stop,\n",
    "                                direction=\"longonly\")\n",
    "\n",
    "pf.stats()"
   ],
   "metadata": {
    "collapsed": false
   }
  },
  {
   "cell_type": "code",
   "execution_count": null,
   "outputs": [],
   "source": [
    "pf.plot().show_png()"
   ],
   "metadata": {
    "collapsed": false
   }
  },
  {
   "cell_type": "code",
   "execution_count": null,
   "outputs": [],
   "source": [
    "macd_ind.plot().show_png()"
   ],
   "metadata": {
    "collapsed": false
   }
  }
 ],
 "metadata": {
  "kernelspec": {
   "display_name": "Python 3",
   "language": "python",
   "name": "python3"
  },
  "language_info": {
   "codemirror_mode": {
    "name": "ipython",
    "version": 2
   },
   "file_extension": ".py",
   "mimetype": "text/x-python",
   "name": "python",
   "nbconvert_exporter": "python",
   "pygments_lexer": "ipython2",
   "version": "2.7.6"
  }
 },
 "nbformat": 4,
 "nbformat_minor": 0
}
