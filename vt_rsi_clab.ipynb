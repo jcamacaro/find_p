{
 "cells": [
  {
   "cell_type": "markdown",
   "metadata": {},
   "source": [
    "# Backtesting assets and a benchmark both b&h and RSI strategy\n",
    "\n",
    "### In this test we are using vectorbt and pandas_ta (pandas_ta is optional, but is useful"
   ]
  },
  {
   "cell_type": "code",
   "execution_count": null,
   "outputs": [],
   "source": [
    "# Define functions to connect to Google and change directories\n",
    "def connectDrive():\n",
    "    from google.colab import drive\n",
    "    drive.mount('/content/drive', force_remount=True)\n",
    "\n",
    "def changeDirectory(path):\n",
    "    import os\n",
    "    original_path = os.getcwd()\n",
    "    os.chdir(path)\n",
    "    new_path = os.getcwd()\n",
    "    print(\"Original path: \",original_path)\n",
    "    print(\"New path: \",new_path)\n",
    "\n",
    "# Connect to Google Drive\n",
    "connectDrive()\n",
    "\n",
    "# Change path\n",
    "changeDirectory(\"/content/drive/My Drive/github/find_p/\")"
   ],
   "metadata": {
    "collapsed": false
   }
  },
  {
   "cell_type": "code",
   "execution_count": null,
   "outputs": [],
   "source": [
    "!pip install vectorbt\n",
    "!pip install pandas_ta\n",
    "!pip install yfinance\n",
    "!pip install plotly\n",
    "!pip install numba\n",
    "!apt-get install xvfb libgtk2.0-0 libgconf-2-4\n",
    "!wget https://github.com/plotly/orca/releases/download/v1.2.1/orca-1.2.1-x86_64.AppImage -O /usr/local/bin/orca\n",
    "!chmod +x /usr/local/bin/orca"
   ],
   "metadata": {
    "collapsed": false
   }
  },
  {
   "cell_type": "code",
   "execution_count": 1,
   "metadata": {},
   "outputs": [],
   "source": [
    "import asyncio\n",
    "import itertools\n",
    "from datetime import datetime\n",
    "\n",
    "from IPython import display\n",
    "\n",
    "import numpy as np\n",
    "import pandas as pd\n",
    "import vectorbt as vbt\n",
    "\n",
    "from pdta_vt_utils import *\n",
    "\n",
    "import plotly.graph_objects as go\n",
    "%matplotlib inline"
   ]
  },
  {
   "cell_type": "markdown",
   "metadata": {},
   "source": [
    "# Configuration of the backtesting platform\n",
    "\n",
    "### Important step that need check before any experiment"
   ]
  },
  {
   "cell_type": "code",
   "execution_count": 2,
   "metadata": {},
   "outputs": [
    {
     "name": "stdout",
     "output_type": "stream",
     "text": [
      "Portfolio Settings [Initial]\n"
     ]
    },
    {
     "data": {
      "text/plain": "                                                                 Value\nOption                                                                \ncall_seq                                                       default\ninit_cash                                                         1000\nsize                                                               inf\nsize_type                                                       amount\nfees                                                            0.0025\nfixed_fees                                                         0.0\nslippage                                                        0.0025\nreject_prob                                                        0.0\nmin_size                                                           0.0\nmax_size                                                           inf\nsize_granularity                                                   NaN\nlock_cash                                                        False\nallow_partial                                                    False\nraise_reject                                                     False\nval_price                                                          inf\naccumulate                                                       False\nsl_stop                                                            NaN\nsl_trail                                                         False\ntp_stop                                                            NaN\nstop_entry_price                                                 close\nstop_exit_price                                              stoplimit\nstop_conflict_mode                                                exit\nupon_stop_exit                                                   close\nupon_stop_update                                              override\nuse_stops                                                         None\nlog                                                              False\nupon_long_conflict                                              ignore\nupon_short_conflict                                             ignore\nupon_dir_conflict                                               ignore\nupon_opposite_entry                                      reversereduce\nsignal_direction                                              longonly\norder_direction                                                   both\ncash_sharing                                                     False\ncall_pre_segment                                                 False\ncall_post_segment                                                False\nffill_val_price                                                   True\nupdate_value                                                     False\nfill_pos_record                                                   True\nrow_wise                                                         False\nflexible                                                         False\nuse_numba                                                         True\nseed                                                              None\nfreq                                                                1D\nattach_call_seq                                                  False\nfillna_close                                                      True\ntrades_type                                                 exittrades\nstats                {'filters': {'has_year_freq': {'filter_func': ...\nplots                {'subplots': ['orders', 'trade_pnl', 'cum_retu...",
      "text/html": "<div>\n<style scoped>\n    .dataframe tbody tr th:only-of-type {\n        vertical-align: middle;\n    }\n\n    .dataframe tbody tr th {\n        vertical-align: top;\n    }\n\n    .dataframe thead th {\n        text-align: right;\n    }\n</style>\n<table border=\"1\" class=\"dataframe\">\n  <thead>\n    <tr style=\"text-align: right;\">\n      <th></th>\n      <th>Value</th>\n    </tr>\n    <tr>\n      <th>Option</th>\n      <th></th>\n    </tr>\n  </thead>\n  <tbody>\n    <tr>\n      <th>call_seq</th>\n      <td>default</td>\n    </tr>\n    <tr>\n      <th>init_cash</th>\n      <td>1000</td>\n    </tr>\n    <tr>\n      <th>size</th>\n      <td>inf</td>\n    </tr>\n    <tr>\n      <th>size_type</th>\n      <td>amount</td>\n    </tr>\n    <tr>\n      <th>fees</th>\n      <td>0.0025</td>\n    </tr>\n    <tr>\n      <th>fixed_fees</th>\n      <td>0.0</td>\n    </tr>\n    <tr>\n      <th>slippage</th>\n      <td>0.0025</td>\n    </tr>\n    <tr>\n      <th>reject_prob</th>\n      <td>0.0</td>\n    </tr>\n    <tr>\n      <th>min_size</th>\n      <td>0.0</td>\n    </tr>\n    <tr>\n      <th>max_size</th>\n      <td>inf</td>\n    </tr>\n    <tr>\n      <th>size_granularity</th>\n      <td>NaN</td>\n    </tr>\n    <tr>\n      <th>lock_cash</th>\n      <td>False</td>\n    </tr>\n    <tr>\n      <th>allow_partial</th>\n      <td>False</td>\n    </tr>\n    <tr>\n      <th>raise_reject</th>\n      <td>False</td>\n    </tr>\n    <tr>\n      <th>val_price</th>\n      <td>inf</td>\n    </tr>\n    <tr>\n      <th>accumulate</th>\n      <td>False</td>\n    </tr>\n    <tr>\n      <th>sl_stop</th>\n      <td>NaN</td>\n    </tr>\n    <tr>\n      <th>sl_trail</th>\n      <td>False</td>\n    </tr>\n    <tr>\n      <th>tp_stop</th>\n      <td>NaN</td>\n    </tr>\n    <tr>\n      <th>stop_entry_price</th>\n      <td>close</td>\n    </tr>\n    <tr>\n      <th>stop_exit_price</th>\n      <td>stoplimit</td>\n    </tr>\n    <tr>\n      <th>stop_conflict_mode</th>\n      <td>exit</td>\n    </tr>\n    <tr>\n      <th>upon_stop_exit</th>\n      <td>close</td>\n    </tr>\n    <tr>\n      <th>upon_stop_update</th>\n      <td>override</td>\n    </tr>\n    <tr>\n      <th>use_stops</th>\n      <td>None</td>\n    </tr>\n    <tr>\n      <th>log</th>\n      <td>False</td>\n    </tr>\n    <tr>\n      <th>upon_long_conflict</th>\n      <td>ignore</td>\n    </tr>\n    <tr>\n      <th>upon_short_conflict</th>\n      <td>ignore</td>\n    </tr>\n    <tr>\n      <th>upon_dir_conflict</th>\n      <td>ignore</td>\n    </tr>\n    <tr>\n      <th>upon_opposite_entry</th>\n      <td>reversereduce</td>\n    </tr>\n    <tr>\n      <th>signal_direction</th>\n      <td>longonly</td>\n    </tr>\n    <tr>\n      <th>order_direction</th>\n      <td>both</td>\n    </tr>\n    <tr>\n      <th>cash_sharing</th>\n      <td>False</td>\n    </tr>\n    <tr>\n      <th>call_pre_segment</th>\n      <td>False</td>\n    </tr>\n    <tr>\n      <th>call_post_segment</th>\n      <td>False</td>\n    </tr>\n    <tr>\n      <th>ffill_val_price</th>\n      <td>True</td>\n    </tr>\n    <tr>\n      <th>update_value</th>\n      <td>False</td>\n    </tr>\n    <tr>\n      <th>fill_pos_record</th>\n      <td>True</td>\n    </tr>\n    <tr>\n      <th>row_wise</th>\n      <td>False</td>\n    </tr>\n    <tr>\n      <th>flexible</th>\n      <td>False</td>\n    </tr>\n    <tr>\n      <th>use_numba</th>\n      <td>True</td>\n    </tr>\n    <tr>\n      <th>seed</th>\n      <td>None</td>\n    </tr>\n    <tr>\n      <th>freq</th>\n      <td>1D</td>\n    </tr>\n    <tr>\n      <th>attach_call_seq</th>\n      <td>False</td>\n    </tr>\n    <tr>\n      <th>fillna_close</th>\n      <td>True</td>\n    </tr>\n    <tr>\n      <th>trades_type</th>\n      <td>exittrades</td>\n    </tr>\n    <tr>\n      <th>stats</th>\n      <td>{'filters': {'has_year_freq': {'filter_func': ...</td>\n    </tr>\n    <tr>\n      <th>plots</th>\n      <td>{'subplots': ['orders', 'trade_pnl', 'cum_retu...</td>\n    </tr>\n  </tbody>\n</table>\n</div>"
     },
     "execution_count": 2,
     "metadata": {},
     "output_type": "execute_result"
    }
   ],
   "source": [
    "cheight, cwidth = 500, 1000 # Adjust as needed for Chart Height and Width\n",
    "vbt.settings.set_theme(\"dark\") # Options: \"light\" (Default), \"dark\" (my fav), \"seaborn\"\n",
    "\n",
    "# Must be set\n",
    "vbt.settings.portfolio[\"freq\"] = \"1D\" # Daily\n",
    "\n",
    "# Predefine vectorbt Portfolio settings\n",
    "vbt.settings.portfolio[\"init_cash\"] = 1000\n",
    "vbt.settings.portfolio[\"fees\"] = 0.0025 # 0.25%\n",
    "vbt.settings.portfolio[\"slippage\"] = 0.0025 # 0.25%\n",
    "# vbt.settings.portfolio[\"size\"] = 100\n",
    "# vbt.settings.portfolio[\"accumulate\"] = False\n",
    "vbt.settings.portfolio[\"allow_partial\"] = False\n",
    "\n",
    "pf_settings = pd.DataFrame(vbt.settings.portfolio.items(), columns=[\"Option\", \"Value\"])\n",
    "pf_settings.set_index(\"Option\", inplace=True)\n",
    "\n",
    "print(f\"Portfolio Settings [Initial]\")\n",
    "pf_settings\n"
   ]
  },
  {
   "cell_type": "markdown",
   "metadata": {},
   "source": [
    "# Setting of the assets to test\n",
    "\n",
    "### It is not dynamic and do not offer any advantage but is a way to have the data collected"
   ]
  },
  {
   "cell_type": "code",
   "execution_count": 3,
   "metadata": {},
   "outputs": [
    {
     "name": "stdout",
     "output_type": "stream",
     "text": [
      "Tickers by index #\n",
      "====================================================================================================\n",
      "Benchmarks: 0: SPY, 1: QQQ\n",
      "    Assets: 0: AAPL, 1: TSLA, 2: TWTR, 3: SPXL, 4: ^GSPC, 5: SPY\n",
      "       All: 0: SPY, 1: QQQ, 2: AAPL, 3: TSLA, 4: TWTR, 5: SPXL, 6: ^GSPC, 7: SPY\n"
     ]
    }
   ],
   "source": [
    "benchmark_tickers = [\"SPY\", \"QQQ\"]\n",
    "asset_tickers = [\"AAPL\", \"TSLA\", \"TWTR\", \"SPXL\", \"^GSPC\", \"SPY\"]\n",
    "all_tickers = benchmark_tickers + asset_tickers\n",
    "\n",
    "print(\"Tickers by index #\")\n",
    "print(\"=\"*100)\n",
    "print(f\"Benchmarks: {', '.join([f'{k}: {v}' for k,v in enumerate(benchmark_tickers)])}\")\n",
    "print(f\"    Assets: {', '.join([f'{k}: {v}' for k,v in enumerate(asset_tickers)])}\")\n",
    "print(f\"       All: {', '.join([f'{k}: {v}' for k,v in enumerate(all_tickers)])}\")\n",
    "print(\"=\"*100)\n",
    "benchmarks = dl(benchmark_tickers, lc_cols=True)\n",
    "assets = dl(asset_tickers, lc_cols=True)"
   ]
  },
  {
   "cell_type": "code",
   "execution_count": 4,
   "metadata": {},
   "outputs": [
    {
     "name": "stdout",
     "output_type": "stream",
     "text": [
      "Selected Benchmark | Asset: SPY | SPXL\n",
      "[i] Downloading: SPY, QQQ\n",
      "[+] SPY(7565, 8) Monday February 13, 2023, NYSE: 14:42:31\n",
      "[+] QQQ(6023, 8) Monday February 13, 2023, NYSE: 14:42:31\n",
      "[*] Download Complete\n",
      "\n",
      "[i] Downloading: AAPL, TSLA, TWTR, SPXL, ^GSPC, SPY\n",
      "[+] AAPL(10632, 7) Monday February 13, 2023, NYSE: 14:42:32\n",
      "[+] TSLA(3179, 7) Monday February 13, 2023, NYSE: 14:42:32\n",
      "[+] TWTR(2259, 7) Monday February 13, 2023, NYSE: 14:42:32\n",
      "[+] SPXL(3592, 8) Monday February 13, 2023, NYSE: 14:42:33\n",
      "[+] ^GSPC(23894, 7) Monday February 13, 2023, NYSE: 14:42:33\n",
      "[+] SPY(7565, 8) Monday February 13, 2023, NYSE: 14:42:34\n",
      "[*] Download Complete\n",
      "\n"
     ]
    }
   ],
   "source": [
    "########### You need to set this #############################\n",
    "# Numero del indice que se quiere ver tanto para exploracion com para benchmark e.j. spy i=5\n",
    "benchmark_name = benchmark_tickers[0] # Change index for different benchmark\n",
    "asset_name = asset_tickers[3] # Change index for different symbol\n",
    "#################################################################\n",
    "\n",
    "print(\"=\"*100)\n",
    "print(f\"Selected Benchmark | Asset: {benchmark_name} | {asset_name}\")\n",
    "start_date = datetime(2010, 1, 1) # Adjust as needed\n",
    "start_date = pd.to_datetime(start_date).tz_localize('America/New_York')\n",
    "end_date = datetime(2015, 1, 1)   # Adjust as needed\n",
    "end_date = pd.to_datetime(end_date).tz_localize('America/New_York')\n",
    "print(\"Available Data:\")\n",
    "print(\"=\"*100)\n",
    "print(f\"Benchmarks: {', '.join(benchmarks.keys())}\")\n",
    "print(f\"Assets: {', '.join(assets.keys())}\")\n",
    "print(\"=\"*100)\n",
    "\n",
    "benchmarkdf = benchmarks[benchmark_name]\n",
    "assetdf     = assets[asset_name]\n",
    "\n",
    "# Set True if you want to constrain Data between start_date & end_date\n",
    "common_range = True\n",
    "crs = ''\n",
    "if common_range:\n",
    "    crs = f\" from {start_date} to {end_date}\"\n",
    "    benchmarkdf = dtmask(benchmarkdf, start_date, end_date)\n",
    "    assetdf = dtmask(assetdf, start_date, end_date)\n",
    "\n",
    "# Update DataFrame names\n",
    "benchmarkdf.name = benchmark_name\n",
    "assetdf.name = asset_name\n",
    "print(f\"Analysis of: {benchmarkdf.name} and {assetdf.name}{crs}\")"
   ]
  },
  {
   "cell_type": "code",
   "execution_count": 7,
   "metadata": {},
   "outputs": [
    {
     "data": {
      "text/plain": "                                 Open        High         Low       Close  \\\nDate                                                                        \n2010-01-04 00:00:00-05:00   87.704935   88.501044   87.033704   88.454216   \n2010-01-05 00:00:00-05:00   88.399588   88.727397   88.079580   88.688370   \n2010-01-06 00:00:00-05:00   88.602481   88.969318   88.532239   88.750778   \n2010-01-07 00:00:00-05:00   88.586872   89.234689   88.337112   89.125420   \n2010-01-08 00:00:00-05:00   88.891294   89.461063   88.711782   89.422035   \n...                               ...         ...         ...         ...   \n2014-12-24 00:00:00-05:00  179.701043  179.977473  179.441881  179.485077   \n2014-12-26 00:00:00-05:00  179.951567  180.418061  179.899737  180.063873   \n2014-12-29 00:00:00-05:00  179.873808  180.521706  179.804698  180.305740   \n2014-12-30 00:00:00-05:00  179.865199  180.003408  179.260484  179.338242   \n2014-12-31 00:00:00-05:00  179.675148  179.847918  177.429096  177.558670   \n\n                              Volume  Dividends  Stock Splits  Capital Gains  \nDate                                                                          \n2010-01-04 00:00:00-05:00  118944600        0.0           0.0            0.0  \n2010-01-05 00:00:00-05:00  111579900        0.0           0.0            0.0  \n2010-01-06 00:00:00-05:00  116074400        0.0           0.0            0.0  \n2010-01-07 00:00:00-05:00  131091100        0.0           0.0            0.0  \n2010-01-08 00:00:00-05:00  126402800        0.0           0.0            0.0  \n...                              ...        ...           ...            ...  \n2014-12-24 00:00:00-05:00   42963400        0.0           0.0            0.0  \n2014-12-26 00:00:00-05:00   57326700        0.0           0.0            0.0  \n2014-12-29 00:00:00-05:00   79643900        0.0           0.0            0.0  \n2014-12-30 00:00:00-05:00   73540800        0.0           0.0            0.0  \n2014-12-31 00:00:00-05:00  130333800        0.0           0.0            0.0  \n\n[1258 rows x 8 columns]",
      "text/html": "<div>\n<style scoped>\n    .dataframe tbody tr th:only-of-type {\n        vertical-align: middle;\n    }\n\n    .dataframe tbody tr th {\n        vertical-align: top;\n    }\n\n    .dataframe thead th {\n        text-align: right;\n    }\n</style>\n<table border=\"1\" class=\"dataframe\">\n  <thead>\n    <tr style=\"text-align: right;\">\n      <th></th>\n      <th>Open</th>\n      <th>High</th>\n      <th>Low</th>\n      <th>Close</th>\n      <th>Volume</th>\n      <th>Dividends</th>\n      <th>Stock Splits</th>\n      <th>Capital Gains</th>\n    </tr>\n    <tr>\n      <th>Date</th>\n      <th></th>\n      <th></th>\n      <th></th>\n      <th></th>\n      <th></th>\n      <th></th>\n      <th></th>\n      <th></th>\n    </tr>\n  </thead>\n  <tbody>\n    <tr>\n      <th>2010-01-04 00:00:00-05:00</th>\n      <td>87.704935</td>\n      <td>88.501044</td>\n      <td>87.033704</td>\n      <td>88.454216</td>\n      <td>118944600</td>\n      <td>0.0</td>\n      <td>0.0</td>\n      <td>0.0</td>\n    </tr>\n    <tr>\n      <th>2010-01-05 00:00:00-05:00</th>\n      <td>88.399588</td>\n      <td>88.727397</td>\n      <td>88.079580</td>\n      <td>88.688370</td>\n      <td>111579900</td>\n      <td>0.0</td>\n      <td>0.0</td>\n      <td>0.0</td>\n    </tr>\n    <tr>\n      <th>2010-01-06 00:00:00-05:00</th>\n      <td>88.602481</td>\n      <td>88.969318</td>\n      <td>88.532239</td>\n      <td>88.750778</td>\n      <td>116074400</td>\n      <td>0.0</td>\n      <td>0.0</td>\n      <td>0.0</td>\n    </tr>\n    <tr>\n      <th>2010-01-07 00:00:00-05:00</th>\n      <td>88.586872</td>\n      <td>89.234689</td>\n      <td>88.337112</td>\n      <td>89.125420</td>\n      <td>131091100</td>\n      <td>0.0</td>\n      <td>0.0</td>\n      <td>0.0</td>\n    </tr>\n    <tr>\n      <th>2010-01-08 00:00:00-05:00</th>\n      <td>88.891294</td>\n      <td>89.461063</td>\n      <td>88.711782</td>\n      <td>89.422035</td>\n      <td>126402800</td>\n      <td>0.0</td>\n      <td>0.0</td>\n      <td>0.0</td>\n    </tr>\n    <tr>\n      <th>...</th>\n      <td>...</td>\n      <td>...</td>\n      <td>...</td>\n      <td>...</td>\n      <td>...</td>\n      <td>...</td>\n      <td>...</td>\n      <td>...</td>\n    </tr>\n    <tr>\n      <th>2014-12-24 00:00:00-05:00</th>\n      <td>179.701043</td>\n      <td>179.977473</td>\n      <td>179.441881</td>\n      <td>179.485077</td>\n      <td>42963400</td>\n      <td>0.0</td>\n      <td>0.0</td>\n      <td>0.0</td>\n    </tr>\n    <tr>\n      <th>2014-12-26 00:00:00-05:00</th>\n      <td>179.951567</td>\n      <td>180.418061</td>\n      <td>179.899737</td>\n      <td>180.063873</td>\n      <td>57326700</td>\n      <td>0.0</td>\n      <td>0.0</td>\n      <td>0.0</td>\n    </tr>\n    <tr>\n      <th>2014-12-29 00:00:00-05:00</th>\n      <td>179.873808</td>\n      <td>180.521706</td>\n      <td>179.804698</td>\n      <td>180.305740</td>\n      <td>79643900</td>\n      <td>0.0</td>\n      <td>0.0</td>\n      <td>0.0</td>\n    </tr>\n    <tr>\n      <th>2014-12-30 00:00:00-05:00</th>\n      <td>179.865199</td>\n      <td>180.003408</td>\n      <td>179.260484</td>\n      <td>179.338242</td>\n      <td>73540800</td>\n      <td>0.0</td>\n      <td>0.0</td>\n      <td>0.0</td>\n    </tr>\n    <tr>\n      <th>2014-12-31 00:00:00-05:00</th>\n      <td>179.675148</td>\n      <td>179.847918</td>\n      <td>177.429096</td>\n      <td>177.558670</td>\n      <td>130333800</td>\n      <td>0.0</td>\n      <td>0.0</td>\n      <td>0.0</td>\n    </tr>\n  </tbody>\n</table>\n<p>1258 rows × 8 columns</p>\n</div>"
     },
     "execution_count": 7,
     "metadata": {},
     "output_type": "execute_result"
    }
   ],
   "source": [
    "benchmarkdf"
   ]
  },
  {
   "cell_type": "code",
   "execution_count": 8,
   "metadata": {},
   "outputs": [
    {
     "data": {
      "text/plain": "                                Open       High        Low      Close  \\\nDate                                                                    \n2010-01-04 00:00:00-05:00   4.100748   4.207281   4.099987   4.200432   \n2010-01-05 00:00:00-05:00   4.195867   4.242285   4.147167   4.240002   \n2010-01-06 00:00:00-05:00   4.227827   4.278810   4.217935   4.251416   \n2010-01-07 00:00:00-05:00   4.229349   4.315336   4.188258   4.301639   \n2010-01-08 00:00:00-05:00   4.264352   4.352622   4.240001   4.347294   \n...                              ...        ...        ...        ...   \n2014-12-24 00:00:00-05:00  21.372383  21.452077  21.266905  21.290344   \n2014-12-26 00:00:00-05:00  21.445040  21.606775  21.421600  21.480200   \n2014-12-29 00:00:00-05:00  21.400508  21.634906  21.391132  21.559898   \n2014-12-30 00:00:00-05:00  21.391134  21.454421  21.184863  21.212992   \n2014-12-31 00:00:00-05:00  21.330191  21.393478  20.542615  20.561367   \n\n                             Volume  Dividends  Stock Splits  Capital Gains  \nDate                                                                         \n2010-01-04 00:00:00-05:00  28238400        0.0           0.0            0.0  \n2010-01-05 00:00:00-05:00  33206400        0.0           0.0            0.0  \n2010-01-06 00:00:00-05:00  44194800        0.0           0.0            0.0  \n2010-01-07 00:00:00-05:00  43773600        0.0           0.0            0.0  \n2010-01-08 00:00:00-05:00  39685200        0.0           0.0            0.0  \n...                             ...        ...           ...            ...  \n2014-12-24 00:00:00-05:00   1291600        0.0           0.0            0.0  \n2014-12-26 00:00:00-05:00   2223200        0.0           0.0            0.0  \n2014-12-29 00:00:00-05:00   2677600        0.0           0.0            0.0  \n2014-12-30 00:00:00-05:00   3138400        0.0           0.0            0.0  \n2014-12-31 00:00:00-05:00   4766000        0.0           0.0            0.0  \n\n[1258 rows x 8 columns]",
      "text/html": "<div>\n<style scoped>\n    .dataframe tbody tr th:only-of-type {\n        vertical-align: middle;\n    }\n\n    .dataframe tbody tr th {\n        vertical-align: top;\n    }\n\n    .dataframe thead th {\n        text-align: right;\n    }\n</style>\n<table border=\"1\" class=\"dataframe\">\n  <thead>\n    <tr style=\"text-align: right;\">\n      <th></th>\n      <th>Open</th>\n      <th>High</th>\n      <th>Low</th>\n      <th>Close</th>\n      <th>Volume</th>\n      <th>Dividends</th>\n      <th>Stock Splits</th>\n      <th>Capital Gains</th>\n    </tr>\n    <tr>\n      <th>Date</th>\n      <th></th>\n      <th></th>\n      <th></th>\n      <th></th>\n      <th></th>\n      <th></th>\n      <th></th>\n      <th></th>\n    </tr>\n  </thead>\n  <tbody>\n    <tr>\n      <th>2010-01-04 00:00:00-05:00</th>\n      <td>4.100748</td>\n      <td>4.207281</td>\n      <td>4.099987</td>\n      <td>4.200432</td>\n      <td>28238400</td>\n      <td>0.0</td>\n      <td>0.0</td>\n      <td>0.0</td>\n    </tr>\n    <tr>\n      <th>2010-01-05 00:00:00-05:00</th>\n      <td>4.195867</td>\n      <td>4.242285</td>\n      <td>4.147167</td>\n      <td>4.240002</td>\n      <td>33206400</td>\n      <td>0.0</td>\n      <td>0.0</td>\n      <td>0.0</td>\n    </tr>\n    <tr>\n      <th>2010-01-06 00:00:00-05:00</th>\n      <td>4.227827</td>\n      <td>4.278810</td>\n      <td>4.217935</td>\n      <td>4.251416</td>\n      <td>44194800</td>\n      <td>0.0</td>\n      <td>0.0</td>\n      <td>0.0</td>\n    </tr>\n    <tr>\n      <th>2010-01-07 00:00:00-05:00</th>\n      <td>4.229349</td>\n      <td>4.315336</td>\n      <td>4.188258</td>\n      <td>4.301639</td>\n      <td>43773600</td>\n      <td>0.0</td>\n      <td>0.0</td>\n      <td>0.0</td>\n    </tr>\n    <tr>\n      <th>2010-01-08 00:00:00-05:00</th>\n      <td>4.264352</td>\n      <td>4.352622</td>\n      <td>4.240001</td>\n      <td>4.347294</td>\n      <td>39685200</td>\n      <td>0.0</td>\n      <td>0.0</td>\n      <td>0.0</td>\n    </tr>\n    <tr>\n      <th>...</th>\n      <td>...</td>\n      <td>...</td>\n      <td>...</td>\n      <td>...</td>\n      <td>...</td>\n      <td>...</td>\n      <td>...</td>\n      <td>...</td>\n    </tr>\n    <tr>\n      <th>2014-12-24 00:00:00-05:00</th>\n      <td>21.372383</td>\n      <td>21.452077</td>\n      <td>21.266905</td>\n      <td>21.290344</td>\n      <td>1291600</td>\n      <td>0.0</td>\n      <td>0.0</td>\n      <td>0.0</td>\n    </tr>\n    <tr>\n      <th>2014-12-26 00:00:00-05:00</th>\n      <td>21.445040</td>\n      <td>21.606775</td>\n      <td>21.421600</td>\n      <td>21.480200</td>\n      <td>2223200</td>\n      <td>0.0</td>\n      <td>0.0</td>\n      <td>0.0</td>\n    </tr>\n    <tr>\n      <th>2014-12-29 00:00:00-05:00</th>\n      <td>21.400508</td>\n      <td>21.634906</td>\n      <td>21.391132</td>\n      <td>21.559898</td>\n      <td>2677600</td>\n      <td>0.0</td>\n      <td>0.0</td>\n      <td>0.0</td>\n    </tr>\n    <tr>\n      <th>2014-12-30 00:00:00-05:00</th>\n      <td>21.391134</td>\n      <td>21.454421</td>\n      <td>21.184863</td>\n      <td>21.212992</td>\n      <td>3138400</td>\n      <td>0.0</td>\n      <td>0.0</td>\n      <td>0.0</td>\n    </tr>\n    <tr>\n      <th>2014-12-31 00:00:00-05:00</th>\n      <td>21.330191</td>\n      <td>21.393478</td>\n      <td>20.542615</td>\n      <td>20.561367</td>\n      <td>4766000</td>\n      <td>0.0</td>\n      <td>0.0</td>\n      <td>0.0</td>\n    </tr>\n  </tbody>\n</table>\n<p>1258 rows × 8 columns</p>\n</div>"
     },
     "execution_count": 8,
     "metadata": {},
     "output_type": "execute_result"
    }
   ],
   "source": [
    "assetdf"
   ]
  },
  {
   "cell_type": "code",
   "execution_count": 9,
   "metadata": {},
   "outputs": [],
   "source": [
    "\n",
    "def trends(df: pd.DataFrame, below: int = 30, above: int = 70):\n",
    "    rsi = vbt.RSI.run(df.Close, window = 14, short_name=\"rsi\")\n",
    "    df['TS_Entries'] = rsi.rsi_crossed_below(below)\n",
    "    df['TS_Exits'] = rsi.rsi_crossed_above(above)\n",
    "    df['TS_Trend'] = rsi.rsi_crossed_below(below) | rsi.rsi_crossed_above(above)\n",
    "    return df, rsi\n",
    "\n",
    "# def trends(df: pd.DataFrame, mamode: str = \"sma\", fast: int = 50, slow: int = 200):\n",
    "#     rsi = df.ta.rsi()\n",
    "#     return ta.xsignals(rsi, 40, 85, above=True, asbool=True)"
   ]
  },
  {
   "cell_type": "code",
   "execution_count": 10,
   "metadata": {},
   "outputs": [],
   "source": [
    "####### Configuration for the strategy ###########\n",
    "# You can chenge this, remember for example you can set the default values\n",
    "# We are adding stop loss as a parameter here\n",
    "###################################################\n",
    "trend_kwargs = {\"below\": 24, \"above\": 89}\n",
    "sl_stop = 0.0451\n",
    "#################################################\n",
    "\n",
    "benchmark_trends, _ = trends(benchmarkdf, **trend_kwargs)\n",
    "# benchmark_trends.TS_Trend.copy().astype(int).plot(figsize=(16, 1), kind=\"area\", color=[\"green\"], alpha=0.45, title=f\"{benchmarkdf.name} Trends\", grid=True)\n",
    "\n",
    "asset_trends, _ = trends(assetdf, **trend_kwargs)\n",
    "# asset_trends.TS_Trend.copy().astype(int).plot(figsize=(16, 1), kind=\"area\", color=[\"green\"], alpha=0.45, title=f\"{assetdf.name} Trends\", grid=True)"
   ]
  },
  {
   "cell_type": "code",
   "execution_count": 11,
   "metadata": {},
   "outputs": [
    {
     "data": {
      "text/plain": "                                Open       High        Low      Close  \\\nDate                                                                    \n2010-01-04 00:00:00-05:00   4.100748   4.207281   4.099987   4.200432   \n2010-01-05 00:00:00-05:00   4.195867   4.242285   4.147167   4.240002   \n2010-01-06 00:00:00-05:00   4.227827   4.278810   4.217935   4.251416   \n2010-01-07 00:00:00-05:00   4.229349   4.315336   4.188258   4.301639   \n2010-01-08 00:00:00-05:00   4.264352   4.352622   4.240001   4.347294   \n...                              ...        ...        ...        ...   \n2014-12-24 00:00:00-05:00  21.372383  21.452077  21.266905  21.290344   \n2014-12-26 00:00:00-05:00  21.445040  21.606775  21.421600  21.480200   \n2014-12-29 00:00:00-05:00  21.400508  21.634906  21.391132  21.559898   \n2014-12-30 00:00:00-05:00  21.391134  21.454421  21.184863  21.212992   \n2014-12-31 00:00:00-05:00  21.330191  21.393478  20.542615  20.561367   \n\n                             Volume  Dividends  Stock Splits  Capital Gains  \\\nDate                                                                          \n2010-01-04 00:00:00-05:00  28238400        0.0           0.0            0.0   \n2010-01-05 00:00:00-05:00  33206400        0.0           0.0            0.0   \n2010-01-06 00:00:00-05:00  44194800        0.0           0.0            0.0   \n2010-01-07 00:00:00-05:00  43773600        0.0           0.0            0.0   \n2010-01-08 00:00:00-05:00  39685200        0.0           0.0            0.0   \n...                             ...        ...           ...            ...   \n2014-12-24 00:00:00-05:00   1291600        0.0           0.0            0.0   \n2014-12-26 00:00:00-05:00   2223200        0.0           0.0            0.0   \n2014-12-29 00:00:00-05:00   2677600        0.0           0.0            0.0   \n2014-12-30 00:00:00-05:00   3138400        0.0           0.0            0.0   \n2014-12-31 00:00:00-05:00   4766000        0.0           0.0            0.0   \n\n                           TS_Entries  TS_Exits  TS_Trend  \nDate                                                       \n2010-01-04 00:00:00-05:00       False     False     False  \n2010-01-05 00:00:00-05:00       False     False     False  \n2010-01-06 00:00:00-05:00       False     False     False  \n2010-01-07 00:00:00-05:00       False     False     False  \n2010-01-08 00:00:00-05:00       False     False     False  \n...                               ...       ...       ...  \n2014-12-24 00:00:00-05:00       False     False     False  \n2014-12-26 00:00:00-05:00       False     False     False  \n2014-12-29 00:00:00-05:00       False     False     False  \n2014-12-30 00:00:00-05:00       False     False     False  \n2014-12-31 00:00:00-05:00       False     False     False  \n\n[1258 rows x 11 columns]",
      "text/html": "<div>\n<style scoped>\n    .dataframe tbody tr th:only-of-type {\n        vertical-align: middle;\n    }\n\n    .dataframe tbody tr th {\n        vertical-align: top;\n    }\n\n    .dataframe thead th {\n        text-align: right;\n    }\n</style>\n<table border=\"1\" class=\"dataframe\">\n  <thead>\n    <tr style=\"text-align: right;\">\n      <th></th>\n      <th>Open</th>\n      <th>High</th>\n      <th>Low</th>\n      <th>Close</th>\n      <th>Volume</th>\n      <th>Dividends</th>\n      <th>Stock Splits</th>\n      <th>Capital Gains</th>\n      <th>TS_Entries</th>\n      <th>TS_Exits</th>\n      <th>TS_Trend</th>\n    </tr>\n    <tr>\n      <th>Date</th>\n      <th></th>\n      <th></th>\n      <th></th>\n      <th></th>\n      <th></th>\n      <th></th>\n      <th></th>\n      <th></th>\n      <th></th>\n      <th></th>\n      <th></th>\n    </tr>\n  </thead>\n  <tbody>\n    <tr>\n      <th>2010-01-04 00:00:00-05:00</th>\n      <td>4.100748</td>\n      <td>4.207281</td>\n      <td>4.099987</td>\n      <td>4.200432</td>\n      <td>28238400</td>\n      <td>0.0</td>\n      <td>0.0</td>\n      <td>0.0</td>\n      <td>False</td>\n      <td>False</td>\n      <td>False</td>\n    </tr>\n    <tr>\n      <th>2010-01-05 00:00:00-05:00</th>\n      <td>4.195867</td>\n      <td>4.242285</td>\n      <td>4.147167</td>\n      <td>4.240002</td>\n      <td>33206400</td>\n      <td>0.0</td>\n      <td>0.0</td>\n      <td>0.0</td>\n      <td>False</td>\n      <td>False</td>\n      <td>False</td>\n    </tr>\n    <tr>\n      <th>2010-01-06 00:00:00-05:00</th>\n      <td>4.227827</td>\n      <td>4.278810</td>\n      <td>4.217935</td>\n      <td>4.251416</td>\n      <td>44194800</td>\n      <td>0.0</td>\n      <td>0.0</td>\n      <td>0.0</td>\n      <td>False</td>\n      <td>False</td>\n      <td>False</td>\n    </tr>\n    <tr>\n      <th>2010-01-07 00:00:00-05:00</th>\n      <td>4.229349</td>\n      <td>4.315336</td>\n      <td>4.188258</td>\n      <td>4.301639</td>\n      <td>43773600</td>\n      <td>0.0</td>\n      <td>0.0</td>\n      <td>0.0</td>\n      <td>False</td>\n      <td>False</td>\n      <td>False</td>\n    </tr>\n    <tr>\n      <th>2010-01-08 00:00:00-05:00</th>\n      <td>4.264352</td>\n      <td>4.352622</td>\n      <td>4.240001</td>\n      <td>4.347294</td>\n      <td>39685200</td>\n      <td>0.0</td>\n      <td>0.0</td>\n      <td>0.0</td>\n      <td>False</td>\n      <td>False</td>\n      <td>False</td>\n    </tr>\n    <tr>\n      <th>...</th>\n      <td>...</td>\n      <td>...</td>\n      <td>...</td>\n      <td>...</td>\n      <td>...</td>\n      <td>...</td>\n      <td>...</td>\n      <td>...</td>\n      <td>...</td>\n      <td>...</td>\n      <td>...</td>\n    </tr>\n    <tr>\n      <th>2014-12-24 00:00:00-05:00</th>\n      <td>21.372383</td>\n      <td>21.452077</td>\n      <td>21.266905</td>\n      <td>21.290344</td>\n      <td>1291600</td>\n      <td>0.0</td>\n      <td>0.0</td>\n      <td>0.0</td>\n      <td>False</td>\n      <td>False</td>\n      <td>False</td>\n    </tr>\n    <tr>\n      <th>2014-12-26 00:00:00-05:00</th>\n      <td>21.445040</td>\n      <td>21.606775</td>\n      <td>21.421600</td>\n      <td>21.480200</td>\n      <td>2223200</td>\n      <td>0.0</td>\n      <td>0.0</td>\n      <td>0.0</td>\n      <td>False</td>\n      <td>False</td>\n      <td>False</td>\n    </tr>\n    <tr>\n      <th>2014-12-29 00:00:00-05:00</th>\n      <td>21.400508</td>\n      <td>21.634906</td>\n      <td>21.391132</td>\n      <td>21.559898</td>\n      <td>2677600</td>\n      <td>0.0</td>\n      <td>0.0</td>\n      <td>0.0</td>\n      <td>False</td>\n      <td>False</td>\n      <td>False</td>\n    </tr>\n    <tr>\n      <th>2014-12-30 00:00:00-05:00</th>\n      <td>21.391134</td>\n      <td>21.454421</td>\n      <td>21.184863</td>\n      <td>21.212992</td>\n      <td>3138400</td>\n      <td>0.0</td>\n      <td>0.0</td>\n      <td>0.0</td>\n      <td>False</td>\n      <td>False</td>\n      <td>False</td>\n    </tr>\n    <tr>\n      <th>2014-12-31 00:00:00-05:00</th>\n      <td>21.330191</td>\n      <td>21.393478</td>\n      <td>20.542615</td>\n      <td>20.561367</td>\n      <td>4766000</td>\n      <td>0.0</td>\n      <td>0.0</td>\n      <td>0.0</td>\n      <td>False</td>\n      <td>False</td>\n      <td>False</td>\n    </tr>\n  </tbody>\n</table>\n<p>1258 rows × 11 columns</p>\n</div>"
     },
     "execution_count": 11,
     "metadata": {},
     "output_type": "execute_result"
    }
   ],
   "source": [
    "# # trade_offset = 0 for Live Signals (close is last price)\n",
    "# # trade_offset = 1 for Backtesting\n",
    "LIVE = 0"
   ]
  },
  {
   "cell_type": "markdown",
   "metadata": {},
   "source": [
    "# Backtest the strategy by signals\n",
    "\n",
    "### Signal Portfolios with their Last 'k' Trades and Performance Statistics"
   ]
  },
  {
   "cell_type": "code",
   "execution_count": 12,
   "metadata": {},
   "outputs": [],
   "source": [
    "# Benchmark Portfolio from Trade Signals\n",
    "benchmarkpf_signals = vbt.Portfolio.from_signals(benchmarkdf.Close,\n",
    "                                                 entries=benchmark_trends.TS_Entries,\n",
    "                                                 exits=benchmark_trends.TS_Exits,\n",
    "                                                 sl_stop=sl_stop)\n",
    "trade_table(benchmarkpf_signals, k=5)\n",
    "combine_stats(benchmarkpf_signals, benchmarkdf.name, \"Long Strategy\", LIVE)"
   ]
  },
  {
   "cell_type": "code",
   "execution_count": 13,
   "metadata": {},
   "outputs": [
    {
     "name": "stdout",
     "output_type": "stream",
     "text": [
      "\n",
      "Last 5 of 7 Trades\n",
      "   status  direction       size  entry_price  exit_price    return  \\\n",
      "2       1          0  12.113762    90.421627  116.045303  0.277672   \n",
      "3       1          0  12.256219   114.124428  124.815818  0.088448   \n",
      "4       1          0  11.001908   138.352388  143.108236  0.029289   \n",
      "5       1          0   9.566335   163.762924  170.810733  0.037929   \n",
      "6       0          0   9.538545   170.453972  177.558670  0.039181   \n",
      "\n",
      "          pnl  entry_fees  exit_fees  \n",
      "2  304.146395    2.738365   3.514363  \n",
      "3  123.714755    3.496835   3.824425  \n",
      "4   44.581893    3.805351   3.936159  \n",
      "5   59.420094    3.916527   4.085082  \n",
      "6   63.703771    4.064707   0.000000  \n",
      "\n"
     ]
    },
    {
     "ename": "NameError",
     "evalue": "name 'LIVE' is not defined",
     "output_type": "error",
     "traceback": [
      "\u001B[0;31m---------------------------------------------------------------------------\u001B[0m",
      "\u001B[0;31mNameError\u001B[0m                                 Traceback (most recent call last)",
      "Input \u001B[0;32mIn [13]\u001B[0m, in \u001B[0;36m<cell line: 7>\u001B[0;34m()\u001B[0m\n\u001B[1;32m      2\u001B[0m benchmarkpf_signals \u001B[38;5;241m=\u001B[39m vbt\u001B[38;5;241m.\u001B[39mPortfolio\u001B[38;5;241m.\u001B[39mfrom_signals(benchmarkdf\u001B[38;5;241m.\u001B[39mClose,\n\u001B[1;32m      3\u001B[0m                                                  entries\u001B[38;5;241m=\u001B[39mbenchmark_trends\u001B[38;5;241m.\u001B[39mTS_Entries,\n\u001B[1;32m      4\u001B[0m                                                  exits\u001B[38;5;241m=\u001B[39mbenchmark_trends\u001B[38;5;241m.\u001B[39mTS_Exits,\n\u001B[1;32m      5\u001B[0m                                                  sl_stop\u001B[38;5;241m=\u001B[39msl_stop)\n\u001B[1;32m      6\u001B[0m trade_table(benchmarkpf_signals, k\u001B[38;5;241m=\u001B[39m\u001B[38;5;241m5\u001B[39m)\n\u001B[0;32m----> 7\u001B[0m combine_stats(benchmarkpf_signals, benchmarkdf\u001B[38;5;241m.\u001B[39mname, \u001B[38;5;124m\"\u001B[39m\u001B[38;5;124mLong Strategy\u001B[39m\u001B[38;5;124m\"\u001B[39m, \u001B[43mLIVE\u001B[49m)\n",
      "\u001B[0;31mNameError\u001B[0m: name 'LIVE' is not defined"
     ]
    }
   ],
   "source": [
    "# Asset Portfolio from Trade Signals\n",
    "assetpf_signals = vbt.Portfolio.from_signals(assetdf.Close,\n",
    "                                             entries=asset_trends.TS_Entries,\n",
    "                                             exits=asset_trends.TS_Exits,\n",
    "                                             sl_stop=sl_stop)\n",
    "trade_table(assetpf_signals, k=5)\n",
    "combine_stats(assetpf_signals, assetdf.name, \"Long Strategy\", LIVE)"
   ]
  },
  {
   "cell_type": "markdown",
   "metadata": {},
   "source": [
    "# Signal Plots\n",
    "\n",
    "### Benchmark"
   ]
  },
  {
   "cell_type": "code",
   "execution_count": null,
   "metadata": {},
   "outputs": [],
   "source": [
    "assetpf_signals.plot().show_png()"
   ]
  },
  {
   "cell_type": "markdown",
   "source": [
    "# Just Continue runing if you are satisfied with the backtest, if not run first the optimization and find the good parameters for the indicator."
   ],
   "metadata": {
    "collapsed": false
   }
  },
  {
   "cell_type": "code",
   "execution_count": null,
   "metadata": {},
   "outputs": [],
   "source": [
    "benchmarkpf_signals.trades.plot(title=f\"{benchmarkdf.name} | Trades\", height=cheight, width=cwidth).show_png()"
   ]
  },
  {
   "cell_type": "code",
   "execution_count": null,
   "metadata": {},
   "outputs": [],
   "source": [
    "benchmarkpf_signals.value().vbt.plot(title=f\"{benchmarkdf.name} | Equity Curve\", trace_kwargs=dict(name=u\"\\u00A4\"), height=cheight // 2, width=cwidth).show_png()"
   ]
  },
  {
   "cell_type": "code",
   "execution_count": null,
   "metadata": {},
   "outputs": [],
   "source": [
    "benchmarkpf_signals.drawdown().vbt.plot(title=f\"{benchmarkdf.name} | Drawdown\", trace_kwargs=dict(name=\"%\"), height=cheight // 2, width=cwidth).show_png()"
   ]
  },
  {
   "cell_type": "code",
   "execution_count": null,
   "metadata": {},
   "outputs": [],
   "source": [
    "benchmarkpf_signals.trades.plot_pnl(title=f\"{benchmarkdf.name} | PnL\", height=cheight // 2, width=cwidth).show_png()"
   ]
  },
  {
   "cell_type": "code",
   "execution_count": null,
   "metadata": {},
   "outputs": [],
   "source": [
    "benchmarkpf_signals.returns().vbt.plot(title=f\"{benchmarkdf.name} | Active Returns\", trace_kwargs=dict(name=\"%\"), height=cheight // 2, width=cwidth).show_png()"
   ]
  },
  {
   "cell_type": "code",
   "execution_count": null,
   "metadata": {},
   "outputs": [],
   "source": [
    "benchmarkpf_signals.cash().vbt.plot(title=f\"{benchmarkdf.name} | Cash\", trace_kwargs=dict(name=u\"\\u00A4\"), height=cheight // 2, width=cwidth).show_png()"
   ]
  },
  {
   "cell_type": "code",
   "execution_count": null,
   "metadata": {},
   "outputs": [],
   "source": [
    "total_assetfees = benchmarkpf_signals.trades.records_readable[\"Entry Fees\"] + benchmarkpf_signals.trades.records_readable[\"Exit Fees\"]\n",
    "total_assetfees.vbt.plot(title=f\"{benchmarkdf.name} | Total Fees\", trace_kwargs=dict(name=u\"\\u00A4\"), height=cheight // 2, width=cwidth).show_png()"
   ]
  },
  {
   "cell_type": "markdown",
   "metadata": {},
   "source": [
    "### Asset"
   ]
  },
  {
   "cell_type": "code",
   "execution_count": null,
   "metadata": {},
   "outputs": [],
   "source": [
    "assetpf_signals.trades.plot(title=f\"{assetdf.name} | Trades\", height=cheight, width=cwidth).show_png()"
   ]
  },
  {
   "cell_type": "code",
   "execution_count": null,
   "metadata": {},
   "outputs": [],
   "source": [
    "assetpf_signals.value().vbt.plot(title=f\"{assetdf.name} | Equity Curve\", trace_kwargs=dict(name=u\"\\u00A4\"), height=cheight // 2, width=cwidth).show_png()"
   ]
  },
  {
   "cell_type": "code",
   "execution_count": null,
   "metadata": {},
   "outputs": [],
   "source": [
    "assetpf_signals.drawdown().vbt.plot(title=f\"{assetdf.name} | Drawdown\", trace_kwargs=dict(name=\"%\"), height=cheight // 2, width=cwidth).show_png()"
   ]
  },
  {
   "cell_type": "code",
   "execution_count": null,
   "metadata": {},
   "outputs": [],
   "source": [
    "assetpf_signals.trades.plot_pnl(title=f\"{assetdf.name} | PnL\", height=cheight // 2, width=cwidth).show_png()"
   ]
  },
  {
   "cell_type": "code",
   "execution_count": null,
   "metadata": {},
   "outputs": [],
   "source": [
    "assetpf_signals.returns().vbt.plot(title=f\"{assetdf.name} | Active Returns\", trace_kwargs=dict(name=\"%\"), height=cheight // 2, width=cwidth).show_png()"
   ]
  },
  {
   "cell_type": "code",
   "execution_count": null,
   "metadata": {},
   "outputs": [],
   "source": [
    "assetpf_signals.cash().vbt.plot(title=f\"{assetdf.name} | Cash\", trace_kwargs=dict(name=u\"\\u00A4\"), height=cheight // 2, width=cwidth).show_png()"
   ]
  },
  {
   "cell_type": "code",
   "execution_count": null,
   "metadata": {},
   "outputs": [],
   "source": [
    "total_assetfees = assetpf_signals.trades.records_readable[\"Entry Fees\"] + assetpf_signals.trades.records_readable[\"Exit Fees\"]\n",
    "total_assetfees.vbt.plot(title=f\"{assetdf.name} | Total Fees\", trace_kwargs=dict(name=u\"\\u00A4\"), height=cheight // 2, width=cwidth).show_png()"
   ]
  },
  {
   "cell_type": "markdown",
   "source": [
    "# Uncomment and run the follwing just if you want a benchmark with buy and hold in details, remember the first plot containg the buy and hold of the Asset"
   ],
   "metadata": {
    "collapsed": false
   }
  },
  {
   "cell_type": "code",
   "execution_count": null,
   "metadata": {},
   "outputs": [],
   "source": [
    "# Benchmark Buy and Hold (BnH) Strategy\n",
    "# benchmarkpf_bnh = vbt.Portfolio.from_holding(benchmarkdf.Close)\n",
    "# print(trade_table(benchmarkpf_bnh))\n",
    "# combine_stats(benchmarkpf_bnh, benchmarkdf.name, \"Buy and Hold\", LIVE)\n",
    "#### Benchmark Buy and Hold Plots #######################\n",
    "# vbt.settings.set_theme(\"seaborn\")\n",
    "# benchmarkpf_bnh.trades.plot(title=f\"{benchmarkdf.name} | Trades\", height=cheight, width=cwidth).show_png()\n",
    "# benchmarkpf_bnh.value().vbt.plot(title=f\"{benchmarkdf.name} | Equity Curve\", trace_kwargs=dict(name=u\"\\u00A4\"), height=cheight // 2, width=cwidth).show_png()\n",
    "# benchmarkpf_bnh.drawdown().vbt.plot(title=f\"{benchmarkdf.name} | Drawdown\", trace_kwargs=dict(name=\"%\"), height=cheight // 2, width=cwidth).show_png()\n",
    "# benchmarkpf_bnh.trades.plot_pnl(title=f\"{benchmarkdf.name} | PnL\", height=cheight // 2, width=cwidth).show_png()\n",
    "# benchmarkpf_bnh.returns().vbt.plot(title=f\"{benchmarkdf.name} | Active Returns\", trace_kwargs=dict(name=\"%\"), height=cheight // 2, width=cwidth).show_png()\n",
    "# benchmarkpf_bnh.cash().vbt.plot(title=f\"{benchmarkdf.name} | Cash\", trace_kwargs=dict(name=u\"\\u00A4\"), height=cheight // 2, width=cwidth).show_png()\n",
    "# total_assetfees = benchmarkpf_bnh.trades.records_readable[\"Entry Fees\"] + benchmarkpf_bnh.trades.records_readable[\"Exit Fees\"]\n",
    "# total_assetfees.vbt.plot(title=f\"{benchmarkdf.name} | Total Fees\", trace_kwargs=dict(name=u\"\\u00A4\"), height=cheight // 2, width=cwidth).show_png()"
   ]
  },
  {
   "cell_type": "code",
   "execution_count": null,
   "metadata": {},
   "outputs": [],
   "source": [
    "# Asset Buy and Hold (BnH) Strategy\n",
    "# assetpf_bnh = vbt.Portfolio.from_holding(assetdf.Close)\n",
    "# print(trade_table(assetpf_bnh))\n",
    "# combine_stats(assetpf_bnh, assetdf.name, \"Buy and Hold\", LIVE)\n",
    "### Asset Buy and Hold ############################\n",
    "# vbt.settings.set_theme(\"seaborn\")\n",
    "# assetpf_bnh.trades.plot(title=f\"{assetdf.name} | Trades\", height=cheight, width=cwidth).show_png()\n",
    "# assetpf_bnh.value().vbt.plot(title=f\"{assetdf.name} | Equity Curve\", trace_kwargs=dict(name=u\"\\u00A4\"), height=cheight // 2, width=cwidth).show_png()\n",
    "# assetpf_bnh.drawdown().vbt.plot(title=f\"{assetdf.name} | Drawdown\", trace_kwargs=dict(name=\"%\"), height=cheight // 2, width=cwidth).show_png()\n",
    "# assetpf_bnh.trades.plot_pnl(title=f\"{assetdf.name} | PnL\", height=cheight // 2, width=cwidth).show_png()\n",
    "# assetpf_bnh.returns().vbt.plot(title=f\"{assetdf.name} | Active Returns\", trace_kwargs=dict(name=\"%\"), height=cheight // 2, width=cwidth).show_png()\n",
    "# assetpf_bnh.cash().vbt.plot(title=f\"{assetdf.name} | Cash\", trace_kwargs=dict(name=u\"\\u00A4\"), height=cheight // 2, width=cwidth).show_png()\n",
    "# total_assetfees = assetpf_bnh.trades.records_readable[\"Entry Fees\"] + assetpf_bnh.trades.records_readable[\"Exit Fees\"]\n",
    "# total_assetfees.vbt.plot(title=f\"{assetdf.name} | Total Fees\", trace_kwargs=dict(name=u\"\\u00A4\"), height=cheight // 2, width=cwidth).show_png()"
   ]
  }
 ],
 "metadata": {
  "kernelspec": {
   "display_name": "Python 3 (ipykernel)",
   "language": "python",
   "name": "python3"
  },
  "language_info": {
   "codemirror_mode": {
    "name": "ipython",
    "version": 3
   },
   "file_extension": ".py",
   "mimetype": "text/x-python",
   "name": "python",
   "nbconvert_exporter": "python",
   "pygments_lexer": "ipython3",
   "version": "3.8.13"
  }
 },
 "nbformat": 4,
 "nbformat_minor": 1
}
